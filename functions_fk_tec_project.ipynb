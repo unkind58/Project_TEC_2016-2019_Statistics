{
 "cells": [
  {
   "cell_type": "code",
   "execution_count": 1,
   "metadata": {},
   "outputs": [],
   "source": [
    "def zodiac_sign(day, month): \n",
    "    if month == 12: \n",
    "        astro_sign = 'Sagittarius' if (day < 22) else 'Capricorn'\n",
    "          \n",
    "    elif month == 1: \n",
    "        astro_sign = 'Capricorn' if (day < 20) else 'Aquarius'\n",
    "          \n",
    "    elif month == 2: \n",
    "        astro_sign = 'Aquarius' if (day < 19) else 'Pisces'\n",
    "          \n",
    "    elif month == 3: \n",
    "        astro_sign = 'Pisces' if (day < 21) else 'Aries'\n",
    "          \n",
    "    elif month == 4: \n",
    "        astro_sign = 'Aries' if (day < 20) else 'Taurus'\n",
    "          \n",
    "    elif month == 5: \n",
    "        astro_sign = 'Taurus' if (day < 21) else 'Gemini'\n",
    "          \n",
    "    elif month == 6: \n",
    "        astro_sign = 'Gemini' if (day < 21) else 'Cancer'\n",
    "          \n",
    "    elif month == 7: \n",
    "        astro_sign = 'Cancer' if (day < 23) else 'Leo'\n",
    "          \n",
    "    elif month == 8: \n",
    "        astro_sign = 'Leo' if (day < 23) else 'Virgo'\n",
    "          \n",
    "    elif month == 9: \n",
    "        astro_sign = 'Virgo' if (day < 23) else 'Libra'\n",
    "          \n",
    "    elif month == 10: \n",
    "        astro_sign = 'Libra' if (day < 23) else 'Scorpio'\n",
    "          \n",
    "    elif month == 11: \n",
    "        astro_sign = 'Scorpio' if (day < 22) else 'Sagittarius'\n",
    "    return astro_sign"
   ]
  },
  {
   "cell_type": "code",
   "execution_count": 2,
   "metadata": {},
   "outputs": [],
   "source": [
    "def won_draw_lost(source):\n",
    "    won_senvage = source[source['TEC_result'] == 'won'].count()\n",
    "    draw_senvage = source[source['TEC_result'] == 'draw'].count()\n",
    "    lost_senvage = source[source['TEC_result'] == 'lost'].count()\n",
    "    return [won_senvage[0],draw_senvage[0],lost_senvage[0]]"
   ]
  }
 ],
 "metadata": {
  "kernelspec": {
   "display_name": "Python 3",
   "language": "python",
   "name": "python3"
  },
  "language_info": {
   "codemirror_mode": {
    "name": "ipython",
    "version": 3
   },
   "file_extension": ".py",
   "mimetype": "text/x-python",
   "name": "python",
   "nbconvert_exporter": "python",
   "pygments_lexer": "ipython3",
   "version": "3.7.6"
  }
 },
 "nbformat": 4,
 "nbformat_minor": 4
}
